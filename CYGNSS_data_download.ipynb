{
 "cells": [
  {
   "cell_type": "markdown",
   "metadata": {},
   "source": [
    "### 初始化程序"
   ]
  },
  {
   "cell_type": "code",
   "execution_count": 1,
   "metadata": {},
   "outputs": [],
   "source": [
    "#First lets import the libraries we require\n",
    "from pprint import pprint\n",
    "import podaac.podaac as podaac\n",
    "import podaac.podaac_utils as utils\n",
    "from podaac.drive import Drive\n",
    "\n",
    "#实例化 定义用户名密码\n",
    "drive = Drive(None, 'username', 'API_password')\n",
    "# \n",
    "p = podaac.Podaac()\n",
    "u = utils.PodaacUtils()"
   ]
  },
  {
   "cell_type": "markdown",
   "metadata": {},
   "source": [
    "### 获取数据名ID以及数据短名"
   ]
  },
  {
   "cell_type": "code",
   "execution_count": 2,
   "metadata": {},
   "outputs": [
    {
     "name": "stdout",
     "output_type": "stream",
     "text": [
      "\n",
      "     \n",
      "        datasetID:          |  dataset_short_names: \n",
      "\n",
      "[ 0 ]   PODAAC-CYGNS-L1C10  |  CYGNSS_L1_CDR_V1.0\n",
      "[ 1 ]   PODAAC-CYGNS-L1X21  |  CYGNSS_L1_V2.1\n",
      "[ 2 ]   PODAAC-CYGNS-L2C10  |  CYGNSS_L2_CDR_V1.0\n",
      "[ 3 ]   PODAAC-CYGNS-L2H10  |  CYGNSS_L2_SURFACE_FLUX_V1.0\n",
      "[ 4 ]   PODAAC-CYGNS-L3X21  |  CYGNSS_L3_V2.1\n",
      "[ 5 ]   PODAAC-CYGNS-L3C10  |  CYGNSS_L3_CDR_V1.0\n"
     ]
    }
   ],
   "source": [
    "#查找当下的数据短名\n",
    "\n",
    "#Print a list of CYGNSS dataset id's\n",
    "# print('\\nHeres list_all_available_granule_search_dataset_ids()') \n",
    "# result = u.list_all_available_granule_search_dataset_ids()  #获取PODDAC所有可下载的数据的ID\n",
    "# dsetId = [i for i in result if 'CYG' in i] #获CYGNSS数据的ID\n",
    "# pprint(dsetId)\n",
    "\n",
    "#Print a list of CYGNSS dataset short names\n",
    "# print('\\nHeres list_all_available_granule_search_dataset_short_names()')\n",
    "# result = u.list_all_available_granule_search_dataset_short_names() #获取PODDAC所有可下载的数据的短名\n",
    "# dsetShortName = [i for i in result if 'CYG' in i] #查询可下载的CYGNSS数据短名\n",
    "# pprint(dsetShortName)\n",
    "\n",
    "\n",
    "\n",
    "#截止2020年5月20日，CYGNSS的数据ID及短名如下，为节省时间则不再查找\n",
    "\n",
    "dsetId = ['PODAAC-CYGNS-L1C10', 'PODAAC-CYGNS-L1X21', 'PODAAC-CYGNS-L2C10', 'PODAAC-CYGNS-L2H10', 'PODAAC-CYGNS-L3X21', 'PODAAC-CYGNS-L3C10']\n",
    "dsetShortName = ['CYGNSS_L1_CDR_V1.0', 'CYGNSS_L1_V2.1', 'CYGNSS_L2_CDR_V1.0', 'CYGNSS_L2_SURFACE_FLUX_V1.0', 'CYGNSS_L3_V2.1', 'CYGNSS_L3_CDR_V1.0']\n",
    "print('\\n     \\n        datasetID:          |  dataset_short_names: \\n')\n",
    "\n",
    "for i in range(0,len(dsetId)):\n",
    "    print('[',i,']  ',dsetId[i],' | ', dsetShortName[i])"
   ]
  },
  {
   "cell_type": "code",
   "execution_count": 3,
   "metadata": {},
   "outputs": [],
   "source": [
    "# 定义下载目录\n",
    "path = '.' #当前路径\n",
    "# 定义下载类别\n",
    "ID = 4 #下载 PODAAC-CYGNS-L3X21\n",
    "str_ID = str(dsetId[ID])\n",
    "#定义下载日期\n",
    "start_date = [2020,1,1]\n",
    "str_start_date = str(start_date[0]) + '-' + str(start_date[1]).zfill(2) + '-' + str(start_date[2]).zfill(2) + 'T00:00:00Z'\n",
    "end_date = [2020,1,2]\n",
    "str_end_date = str(end_date[0]) + '-' + str(end_date[1]).zfill(2) + '-' + str(end_date[2]).zfill(2) + 'T00:00:00Z'"
   ]
  },
  {
   "cell_type": "code",
   "execution_count": 4,
   "metadata": {},
   "outputs": [
    {
     "name": "stdout",
     "output_type": "stream",
     "text": [
      "https://podaac-tools.jpl.nasa.gov/drive/files/allData/cygnss/L3/v2.1/2020/001/cyg.ddmi.s20200101-003000-e20200101-233000.l3.grid-wind.a10.d21.nc\n",
      "2020年01月01日cygnssL3v2.1文件已经下载\n"
     ]
    }
   ],
   "source": [
    "# 检索链接并下载\n",
    "result = p.granule_search(dataset_id=str_ID, \n",
    "                          start_time=str_start_date, \n",
    "                          end_time=str_end_date, \n",
    "                          sort_by='timeAsc')\n",
    "# searchStr = 'totalResults'\n",
    "url = drive.mine_drive_urls_from_granule_search(result)\n",
    "for i in url:\n",
    "    print(i)\n",
    "    \n",
    "drive.download_granules(url,path)"
   ]
  },
  {
   "cell_type": "code",
   "execution_count": null,
   "metadata": {},
   "outputs": [],
   "source": []
  }
 ],
 "metadata": {
  "kernelspec": {
   "display_name": "Python 3",
   "language": "python",
   "name": "python3"
  },
  "language_info": {
   "codemirror_mode": {
    "name": "ipython",
    "version": 3
   },
   "file_extension": ".py",
   "mimetype": "text/x-python",
   "name": "python",
   "nbconvert_exporter": "python",
   "pygments_lexer": "ipython3",
   "version": "3.7.6"
  }
 },
 "nbformat": 4,
 "nbformat_minor": 4
}
